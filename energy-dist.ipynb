{
 "cells": [
  {
   "cell_type": "code",
   "execution_count": 1,
   "metadata": {},
   "outputs": [
    {
     "name": "stdout",
     "output_type": "stream",
     "text": [
      "Requirement already satisfied: wheel in c:\\users\\u1942937\\appdata\\local\\continuum\\anaconda3\\lib\\site-packages (from -r requirements.txt (line 1)) (0.33.6)\n",
      "Requirement already satisfied: numpy in c:\\users\\u1942937\\appdata\\local\\continuum\\anaconda3\\lib\\site-packages (from -r requirements.txt (line 2)) (1.16.5)\n",
      "Requirement already satisfied: uncertainties in c:\\users\\u1942937\\appdata\\local\\continuum\\anaconda3\\lib\\site-packages (from -r requirements.txt (line 3)) (3.1.6)\n",
      "Requirement already satisfied: matplotlib in c:\\users\\u1942937\\appdata\\local\\continuum\\anaconda3\\lib\\site-packages (from -r requirements.txt (line 4)) (3.1.1)\n",
      "Requirement already satisfied: pandas in c:\\users\\u1942937\\appdata\\local\\continuum\\anaconda3\\lib\\site-packages (from -r requirements.txt (line 5)) (0.25.1)\n",
      "Requirement already satisfied: plotly in c:\\users\\u1942937\\appdata\\local\\continuum\\anaconda3\\lib\\site-packages (from -r requirements.txt (line 6)) (5.6.0)\n",
      "Requirement already satisfied: SciencePlots in c:\\users\\u1942937\\appdata\\local\\continuum\\anaconda3\\lib\\site-packages (from -r requirements.txt (line 7)) (1.0.9)\n",
      "Requirement already satisfied: future in c:\\users\\u1942937\\appdata\\local\\continuum\\anaconda3\\lib\\site-packages (from uncertainties->-r requirements.txt (line 3)) (0.17.1)\n",
      "Requirement already satisfied: cycler>=0.10 in c:\\users\\u1942937\\appdata\\local\\continuum\\anaconda3\\lib\\site-packages (from matplotlib->-r requirements.txt (line 4)) (0.10.0)\n",
      "Requirement already satisfied: kiwisolver>=1.0.1 in c:\\users\\u1942937\\appdata\\local\\continuum\\anaconda3\\lib\\site-packages (from matplotlib->-r requirements.txt (line 4)) (1.1.0)\n",
      "Requirement already satisfied: pyparsing!=2.0.4,!=2.1.2,!=2.1.6,>=2.0.1 in c:\\users\\u1942937\\appdata\\local\\continuum\\anaconda3\\lib\\site-packages (from matplotlib->-r requirements.txt (line 4)) (2.4.2)\n",
      "Requirement already satisfied: python-dateutil>=2.1 in c:\\users\\u1942937\\appdata\\local\\continuum\\anaconda3\\lib\\site-packages (from matplotlib->-r requirements.txt (line 4)) (2.8.0)\n",
      "Requirement already satisfied: pytz>=2017.2 in c:\\users\\u1942937\\appdata\\local\\continuum\\anaconda3\\lib\\site-packages (from pandas->-r requirements.txt (line 5)) (2019.3)\n",
      "Requirement already satisfied: tenacity>=6.2.0 in c:\\users\\u1942937\\appdata\\local\\continuum\\anaconda3\\lib\\site-packages (from plotly->-r requirements.txt (line 6)) (8.0.1)\n",
      "Requirement already satisfied: six in c:\\users\\u1942937\\appdata\\local\\continuum\\anaconda3\\lib\\site-packages (from plotly->-r requirements.txt (line 6)) (1.12.0)\n",
      "Requirement already satisfied: setuptools in c:\\users\\u1942937\\appdata\\local\\continuum\\anaconda3\\lib\\site-packages (from kiwisolver>=1.0.1->matplotlib->-r requirements.txt (line 4)) (41.4.0)\n",
      "Imported all.\n"
     ]
    }
   ],
   "source": [
    "# pip install\n",
    "!pip install -r requirements.txt\n",
    "\n",
    "# Imports\n",
    "import matplotlib.pyplot as plt\n",
    "import matplotlib.patches as mpatches\n",
    "plt.style.use(['science','no-latex'])\n",
    "import numpy as np\n",
    "import pandas as pd\n",
    "from pprint import pprint\n",
    "\n",
    "# Module imports\n",
    "from periodic_table import *\n",
    "from utils import *\n",
    "print(\"Imported all.\")\n",
    "DPI = 800"
   ]
  },
  {
   "cell_type": "markdown",
   "metadata": {},
   "source": [
    "# Plot\n",
    "However all currently INCORRECT"
   ]
  },
  {
   "cell_type": "code",
   "execution_count": 2,
   "metadata": {},
   "outputs": [
    {
     "ename": "SyntaxError",
     "evalue": "invalid syntax (<ipython-input-2-95bc2f88f0ff>, line 7)",
     "output_type": "error",
     "traceback": [
      "\u001b[1;36m  File \u001b[1;32m\"<ipython-input-2-95bc2f88f0ff>\"\u001b[1;36m, line \u001b[1;32m7\u001b[0m\n\u001b[1;33m    energy =\u001b[0m\n\u001b[1;37m         ^\u001b[0m\n\u001b[1;31mSyntaxError\u001b[0m\u001b[1;31m:\u001b[0m invalid syntax\n"
     ]
    }
   ],
   "source": [
    "# Plot energy distribution\n",
    "bpar = 0.4\n",
    "gammaMu = 3.77\n",
    "epsMu = 693.0\n",
    "depth = 0.0\n",
    "x = np.linspace(1,1 * 10 ** 5\n",
    "energy = \n",
    "plt.plot(x, result)\n",
    "plt.yscale(\"log\")\n",
    "plt.xscale(\"log\")\n",
    "plt.savefig('./img/energy-dist', dpi=DPI)"
   ]
  },
  {
   "cell_type": "code",
   "execution_count": null,
   "metadata": {},
   "outputs": [],
   "source": [
    "i1 = 8.6 * 10 **-6\n",
    "i2 = 0.44 * 10 **-6\n",
    "L1 = 0.45\n",
    "L2 = 0.87\n",
    "depth = 0.0\n",
    "costheta = np.linspace(1 * 10 ** -5,3)\n",
    "# Inverse smallest cos theta\n",
    "sec = 1.0 * 10 **5\n",
    "# exclude horizontal costheta = 0\n",
    "sec = 1.0 / costheta;\n",
    "dummy  = depth * sec / L1;\n",
    "dummy2 = depth * sec / L2;\n",
    "result = (i1 * np.exp(-dummy) + i2 * np.exp(-dummy2)) * sec;\n",
    "plt.yscale(\"log\")\n",
    "plt.plot(costheta, result)"
   ]
  },
  {
   "cell_type": "code",
   "execution_count": null,
   "metadata": {},
   "outputs": [],
   "source": []
  },
  {
   "cell_type": "code",
   "execution_count": null,
   "metadata": {},
   "outputs": [],
   "source": []
  }
 ],
 "metadata": {
  "kernelspec": {
   "display_name": "Python 3",
   "language": "python",
   "name": "python3"
  },
  "language_info": {
   "codemirror_mode": {
    "name": "ipython",
    "version": 3
   },
   "file_extension": ".py",
   "mimetype": "text/x-python",
   "name": "python",
   "nbconvert_exporter": "python",
   "pygments_lexer": "ipython3",
   "version": "3.7.4"
  }
 },
 "nbformat": 4,
 "nbformat_minor": 4
}
