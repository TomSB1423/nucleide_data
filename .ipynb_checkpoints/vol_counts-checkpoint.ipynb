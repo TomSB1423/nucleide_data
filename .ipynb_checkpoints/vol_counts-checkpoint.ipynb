{
 "cells": [
  {
   "cell_type": "code",
   "execution_count": 119,
   "metadata": {},
   "outputs": [
    {
     "name": "stdout",
     "output_type": "stream",
     "text": [
      "Imported all.\n"
     ]
    }
   ],
   "source": [
    "# pip install\n",
    "#!pip install -r requirements.txt\n",
    "\n",
    "# Imports\n",
    "import matplotlib.pyplot as plt\n",
    "import matplotlib.patches as mpatches\n",
    "import numpy as np\n",
    "import pandas as pd\n",
    "pd.options.mode.chained_assignment = None\n",
    "from pprint import pprint\n",
    "import time\n",
    "\n",
    "# Module imports\n",
    "from periodic_table import *\n",
    "from utils import *\n",
    "print(\"Imported all.\")"
   ]
  },
  {
   "cell_type": "markdown",
   "metadata": {},
   "source": [
    "# Open data files"
   ]
  },
  {
   "cell_type": "code",
   "execution_count": 120,
   "metadata": {},
   "outputs": [],
   "source": [
    "# original, NC, FTFP\n",
    "physic_model = \"FTFP\"\n",
    "\n",
    "# Open propmt TPC data file\n",
    "file_dir = f\"./assets/{physic_model}/A_Z_count-TPC_prompt.txt\"\n",
    "columns = [\"Mass Number\", \"Atomic Number\", \"Counts\"]\n",
    "df_TPC_prompt = open_data(file_dir, columns)\n",
    "# Add in isotope data\n",
    "add_isotope_data(df_TPC_prompt)\n",
    "# Reorder columns\n",
    "df_TPC_prompt = df_TPC_prompt[[\"Iso Symbol\",\"Atomic Number\",\"Mass Number\",\"Counts\",\"Production Yield\",\"Stable\",\"Half Life (ns)\",\"Decay Modes (m, b, q MeV)\",\"Max Q-Value\",\"Plot Colour\",]]"
   ]
  },
  {
   "cell_type": "markdown",
   "metadata": {},
   "source": [
    "Considered delayed if created at time > 20 microseconds"
   ]
  },
  {
   "cell_type": "code",
   "execution_count": 121,
   "metadata": {},
   "outputs": [],
   "source": [
    "# Open delayed TPC data file\n",
    "file_dir = f\"./assets/{physic_model}/A_Z_count-TPC_delayed.txt\"\n",
    "columns = [\"Mass Number\", \"Atomic Number\", \"Counts\"]\n",
    "df_TPC_delayed = open_data(file_dir, columns)\n",
    "# Add in isotope data\n",
    "add_isotope_data(df_TPC_delayed)\n",
    "# Reorder columns\n",
    "df_TPC_delayed = df_TPC_delayed[[\"Iso Symbol\",\"Atomic Number\",\"Mass Number\",\"Counts\",\"Production Yield\",\"Stable\",\"Half Life (ns)\",\"Decay Modes (m, b, q MeV)\",\"Max Q-Value\",\"Plot Colour\",]]"
   ]
  },
  {
   "cell_type": "code",
   "execution_count": 122,
   "metadata": {},
   "outputs": [],
   "source": [
    "# Open buffer data file\n",
    "file_dir = f\"./assets/{physic_model}/A_Z_count-buffers.txt\"\n",
    "columns = [\"Mass Number\", \"Atomic Number\", \"Counts\"]\n",
    "df_buffers = open_data(file_dir, columns)\n",
    "# Add in isotope data\n",
    "add_isotope_data(df_buffers)\n",
    "# Reorder columns\n",
    "df_buffers = df_buffers[[\"Iso Symbol\",\"Atomic Number\",\"Mass Number\",\"Counts\",\"Production Yield\",\"Stable\",\"Half Life (ns)\",\"Decay Modes (m, b, q MeV)\",\"Max Q-Value\",\"Plot Colour\",]]"
   ]
  },
  {
   "cell_type": "markdown",
   "metadata": {},
   "source": [
    "# Preprocessing"
   ]
  },
  {
   "cell_type": "markdown",
   "metadata": {},
   "source": [
    "### Add Production (/yr)"
   ]
  },
  {
   "cell_type": "code",
   "execution_count": 123,
   "metadata": {},
   "outputs": [
    {
     "name": "stdout",
     "output_type": "stream",
     "text": [
      "Simulation length (yr): 29.01073397156948\n"
     ]
    }
   ],
   "source": [
    "# Simulation length = years * nanoseconds\n",
    "year_in_nano = (3.154 * 10**16)\n",
    "year_in_sec = (3.154 * 10**7)\n",
    "day_in_nano = (8.64 * 10 ** 13)\n",
    "### VARY THIS ###\n",
    "muon_no = 10 ** 8\n",
    "muon_flux = 3.447 * 10 ** 6 # per year\n",
    "sim_length = muon_no / muon_flux\n",
    "print(f\"Simulation length (yr): {sim_length}\")\n",
    "\n",
    "df_buffers[\"Production (/yr)\"] = df_buffers[\"Counts\"] / sim_length\n",
    "df_TPC_prompt[\"Production (/yr)\"] = df_TPC_prompt[\"Counts\"] / sim_length\n",
    "df_TPC_delayed[\"Production (/yr)\"] = df_TPC_delayed[\"Counts\"] / sim_length\n",
    "# Yield per muon\n",
    "df_buffers[\"Yield per Muon (/yr)\"] = df_buffers[\"Counts\"] / muon_no\n",
    "df_TPC_prompt[\"Yield per Muon (/yr)\"] = df_TPC_prompt[\"Counts\"] / muon_no\n",
    "df_TPC_delayed[\"Yield per Muon (/yr)\"] = df_TPC_delayed[\"Counts\"] / muon_no"
   ]
  },
  {
   "cell_type": "markdown",
   "metadata": {},
   "source": [
    "### Create unstable dfs"
   ]
  },
  {
   "cell_type": "code",
   "execution_count": 124,
   "metadata": {},
   "outputs": [],
   "source": [
    "unstable_buffers = df_buffers[df_buffers[\"Stable\"] == False]\n",
    "unstable_TPC_prompt = df_TPC_prompt[df_TPC_prompt[\"Stable\"] == False]\n",
    "unstable_TPC_delayed = df_TPC_delayed[df_TPC_delayed[\"Stable\"] == False]"
   ]
  },
  {
   "cell_type": "markdown",
   "metadata": {},
   "source": [
    "### Print Information"
   ]
  },
  {
   "cell_type": "code",
   "execution_count": 125,
   "metadata": {},
   "outputs": [
    {
     "name": "stdout",
     "output_type": "stream",
     "text": [
      "Buffers:\n",
      "No: 185\n",
      "Total Counts: 191657971\n",
      "Total Production (yr): 6606450.260370002\n",
      "Number of stable isotopes: 40\n",
      "Number of unstable isotopes: 145\n",
      "\n",
      "TPC Prompt:\n",
      "No: 169\n",
      "Total Counts: 80435920\n",
      "Total Production (yr): 2772626.162400001\n",
      "Number of stable isotopes: 38\n",
      "Number of unstable isotopes: 131\n",
      "\n",
      "TPC Delayed:\n",
      "No: 94\n",
      "Total Counts: 18153112\n",
      "Total Production (yr): 625737.77064\n",
      "Number of stable isotopes: 39\n",
      "Number of unstable isotopes: 55\n"
     ]
    }
   ],
   "source": [
    "print(\"Buffers:\")\n",
    "print(f\"No: {len(df_buffers)}\")\n",
    "print(f\"Total Counts: {df_buffers['Counts'].sum()}\")\n",
    "print(f\"Total Production (yr): {df_buffers['Production (/yr)'].sum()}\")\n",
    "print(f\"Number of stable isotopes: {len(df_buffers) - len(unstable_buffers)}\")\n",
    "print(f\"Number of unstable isotopes: {len(unstable_buffers)}\")\n",
    "print()\n",
    "print(\"TPC Prompt:\")\n",
    "print(f\"No: {len(df_TPC_prompt)}\")\n",
    "print(f\"Total Counts: {df_TPC_prompt['Counts'].sum()}\")\n",
    "print(f\"Total Production (yr): {df_TPC_prompt['Production (/yr)'].sum()}\")\n",
    "print(f\"Number of stable isotopes: {len(df_TPC_prompt) - len(unstable_TPC_prompt)}\")\n",
    "print(f\"Number of unstable isotopes: {len(unstable_TPC_prompt)}\")\n",
    "print()\n",
    "print(\"TPC Delayed:\")\n",
    "print(f\"No: {len(df_TPC_delayed)}\")\n",
    "print(f\"Total Counts: {df_TPC_delayed['Counts'].sum()}\")\n",
    "print(f\"Total Production (yr): {df_TPC_delayed['Production (/yr)'].sum()}\")\n",
    "print(f\"Number of stable isotopes: {len(df_TPC_delayed) - len(unstable_TPC_delayed)}\")\n",
    "print(f\"Number of unstable isotopes: {len(unstable_TPC_delayed)}\")"
   ]
  },
  {
   "cell_type": "markdown",
   "metadata": {},
   "source": [
    "### Filter by realistic half-life"
   ]
  },
  {
   "cell_type": "markdown",
   "metadata": {},
   "source": [
    "Find max and min half lifes"
   ]
  },
  {
   "cell_type": "code",
   "execution_count": 126,
   "metadata": {},
   "outputs": [
    {
     "name": "stdout",
     "output_type": "stream",
     "text": [
      "Buffers:\n",
      "Min half life (nano): 0.0\n",
      "Max half life (day): 1096064814814814.9\n",
      "TPC Prompt:\n",
      "Min half life (nano): 0.0\n",
      "Max half life (day): 1096064814814814.9\n",
      "TPC Delayed:\n",
      "Min half life (nano): 7.91e-22\n",
      "Max half life (day): 1096064814814814.9\n"
     ]
    }
   ],
   "source": [
    "print(\"Buffers:\")\n",
    "print(f\"Min half life (nano): {unstable_buffers['Half Life (ns)'].min()}\\nMax half life (day): {unstable_buffers['Half Life (ns)'].max() / day_in_nano}\")\n",
    "print(\"TPC Prompt:\")\n",
    "print(f\"Min half life (nano): {unstable_TPC_prompt['Half Life (ns)'].min()}\\nMax half life (day): {unstable_TPC_prompt['Half Life (ns)'].max() / day_in_nano}\")\n",
    "print(\"TPC Delayed:\")\n",
    "print(f\"Min half life (nano): {unstable_TPC_delayed['Half Life (ns)'].min()}\\nMax half life (day): {unstable_TPC_delayed['Half Life (ns)'].max() / day_in_nano}\")"
   ]
  },
  {
   "cell_type": "code",
   "execution_count": 127,
   "metadata": {},
   "outputs": [
    {
     "name": "stdout",
     "output_type": "stream",
     "text": [
      "Difference:\n",
      "Buffers: 2\n",
      "TPC Prompt: 2\n",
      "TPC Delayed: 1\n"
     ]
    }
   ],
   "source": [
    "# year * days * nanoseconds\n",
    "upper_lim = 1 * 356 * day_in_nano\n",
    "buffer_before = len(unstable_buffers)\n",
    "TPC_p_before = len(unstable_TPC_prompt)\n",
    "TPC_d_before = len(unstable_TPC_delayed)\n",
    "unstable_buffers = unstable_buffers[unstable_buffers[\"Half Life (ns)\"] < upper_lim].sort_values(\"Half Life (ns)\")\n",
    "unstable_TPC_prompt = unstable_TPC_prompt[unstable_TPC_prompt[\"Half Life (ns)\"] < upper_lim].sort_values(\"Half Life (ns)\")\n",
    "unstable_TPC_delayed = unstable_TPC_delayed[unstable_TPC_delayed[\"Half Life (ns)\"] < upper_lim].sort_values(\"Half Life (ns)\")\n",
    "print(f\"Difference:\")\n",
    "print(f\"Buffers: {buffer_before - len(unstable_buffers)}\")\n",
    "print(f\"TPC Prompt: {TPC_p_before - len(unstable_TPC_prompt)}\")\n",
    "print(f\"TPC Delayed: {TPC_d_before - len(unstable_TPC_delayed)}\")"
   ]
  },
  {
   "cell_type": "markdown",
   "metadata": {},
   "source": [
    "### Add beta decay energy columns"
   ]
  },
  {
   "cell_type": "code",
   "execution_count": 128,
   "metadata": {},
   "outputs": [],
   "source": [
    "# https://nds.iaea.org/relnsd/vcharthtml/api_v0_notebook.html\n",
    "# https://nds.iaea.org/relnsd/vcharthtml/api_v0_guide.html#gamma\n",
    "# https://nds.iaea.org/relnsd/vcharthtml/VChartHTML.html\n",
    "#!pip install plotly\n",
    "import plotly.express as px\n",
    "import plotly.graph_objects as go\n",
    "import time\n",
    "\n",
    "# the service URL\n",
    "livechart = \"https://nds.iaea.org/relnsd/v0/data?\"\n",
    "\n",
    "import urllib.request\n",
    "\n",
    "def lc_read_csv(url):\n",
    "    req = urllib.request.Request(url)\n",
    "    req.add_header('User-Agent', 'Mozilla/5.0 (X11; Ubuntu; Linux x86_64; rv:77.0) Gecko/20100101 Firefox/77.0')\n",
    "    return pd.read_csv(urllib.request.urlopen(req))\n",
    "\n",
    "def gamma_dec(iso_sym):\n",
    "    \"\"\"Calculates average gamma decay - depreciated\"\"\"\n",
    "    sym = iso_sym.split(\" \")[0].lower()\n",
    "    A = iso_sym.split(\" \")[1].split(\"-\")[1]\n",
    "    df = lc_read_csv(livechart + f\"fields=decay_rads&nuclides={str(A)+sym}&rad_types=g\")\n",
    "    if not df.empty:\n",
    "        try:\n",
    "            average = (df[\"energy\"] * df[\"intensity\"]/100).sum()\n",
    "            return average\n",
    "        except:\n",
    "            pass\n",
    "    return None\n",
    "\n",
    "def g_in_range(iso_sym, min_e, max_e, found_e_range, rad_type):\n",
    "    \"Returns True if gamma found in range else False\"\n",
    "    if rad_type == \"bm\":\n",
    "        energy_title = \"mean_energy\"\n",
    "    else:\n",
    "        energy_title = \"energy\"\n",
    "    sym = iso_sym.split(\" \")[0].lower()\n",
    "    A = iso_sym.split(\" \")[1].split(\"-\")[1]\n",
    "    df = lc_read_csv(livechart + f\"fields=decay_rads&nuclides={str(A)+sym}&rad_types={rad_type}\")\n",
    "    ### IMPORTANT ###\n",
    "    threshhold_intensity = 0.5\n",
    "    time.sleep(0.02)\n",
    "    if not df.empty:\n",
    "        try:\n",
    "            df = df[df[\"intensity_beta\"] > threshhold_intensity]\n",
    "            if df[energy_title].max() > found_e_range[1]:\n",
    "                found_e_range[1] = df[energy_title].max()\n",
    "            if df[energy_title].min() < found_e_range[0]:\n",
    "                found_e_range[0] = df[energy_title].min()\n",
    "            if df[energy_title].between(min_e,max_e).any():\n",
    "                return True\n",
    "        except:\n",
    "            return np.nan\n",
    "    return False"
   ]
  },
  {
   "cell_type": "markdown",
   "metadata": {},
   "source": [
    "Get specific data"
   ]
  },
  {
   "cell_type": "code",
   "execution_count": 129,
   "metadata": {},
   "outputs": [],
   "source": [
    "A = 41\n",
    "sym = \"ar\"\n",
    "# a bp bm g e x (α, β-, β+ and electron capture, γ, Auger and conversion electron, X-ray)\n",
    "df = lc_read_csv(livechart + f\"fields=decay_rads&nuclides={str(A)+sym}&rad_types=bm\")\n",
    "# df"
   ]
  },
  {
   "cell_type": "markdown",
   "metadata": {},
   "source": [
    "Add decay columns"
   ]
  },
  {
   "cell_type": "code",
   "execution_count": null,
   "metadata": {},
   "outputs": [],
   "source": [
    "min_b_e = 0\n",
    "max_b_e = 100\n",
    "found_e_range = [np.inf,0]\n",
    "rad_type = \"bm\"\n",
    "beta_col_name = f\"BDecay {min_b_e}-{max_b_e} (keV)\"\n",
    "unstable_TPC_delayed[beta_col_name] = unstable_TPC_delayed.apply(lambda x : g_in_range(x[\"Iso Symbol\"], min_b_e, max_b_e, found_e_range, rad_type), axis = 1)\n",
    "unstable_TPC_prompt[beta_col_name] = unstable_TPC_prompt.apply(lambda x : g_in_range(x[\"Iso Symbol\"], min_b_e, max_b_e, found_e_range, rad_type), axis = 1)\n",
    "unstable_buffers[beta_col_name] = unstable_buffers.apply(lambda x : g_in_range(x[\"Iso Symbol\"], min_b_e, max_b_e, found_e_range, rad_type), axis = 1)\n",
    "print(f\"Decay beta energy range (min/max) {found_e_range[0]}-{found_e_range[1]} keV\")"
   ]
  },
  {
   "cell_type": "markdown",
   "metadata": {},
   "source": [
    "# Total ratios of prompt to delayed counts"
   ]
  },
  {
   "cell_type": "code",
   "execution_count": null,
   "metadata": {},
   "outputs": [],
   "source": [
    "plt.pie(x=[df_TPC_prompt[\"Counts\"].sum(), df_TPC_delayed[\"Counts\"].sum()], autopct='%1.1f%%', labels=[\"Prompt\", \"Delayed\"])\n",
    "plt.savefig('./img/prompt-delayed.png')\n",
    "plt.show()"
   ]
  },
  {
   "cell_type": "markdown",
   "metadata": {},
   "source": [
    "# Total ratio of counts in TPC to buffer "
   ]
  },
  {
   "cell_type": "code",
   "execution_count": null,
   "metadata": {},
   "outputs": [],
   "source": [
    "plt.pie(x=[df_buffers[\"Counts\"].sum(), df_TPC_delayed[\"Counts\"].sum() + df_TPC_prompt[\"Counts\"].sum()], autopct='%1.1f%%', labels=[\"Buffer\", \"TPC\"])\n",
    "plt.show()"
   ]
  },
  {
   "cell_type": "markdown",
   "metadata": {},
   "source": [
    "# Look for important unstable in buffer\n",
    "Can't really do this - need another geant4 simulation"
   ]
  },
  {
   "cell_type": "markdown",
   "metadata": {},
   "source": [
    "# Look for important unstable prompt isotopes in TPC\n",
    "Isotopes that are produced inside the deadtime, but will live long enough to decay outside this time and emit a detectable signal"
   ]
  },
  {
   "cell_type": "code",
   "execution_count": null,
   "metadata": {},
   "outputs": [],
   "source": [
    "unstable_TPC_prompt.sort_values(\"Atomic Number\", ascending=False).head(30)"
   ]
  },
  {
   "cell_type": "code",
   "execution_count": null,
   "metadata": {},
   "outputs": [],
   "source": [
    "# Filter with halflife greater than deadtime (lasts long enough)\n",
    "important_TPC_prompt = unstable_TPC_prompt[unstable_TPC_prompt[\"Half Life (ns)\"] > 20000000].sort_values(\"Production (/yr)\", ascending=False).reset_index(drop=True)\n",
    "# Filter with beta energy ranges\n",
    "important_TPC_prompt = important_TPC_prompt[pd.isnull(important_TPC_prompt[beta_col_name]) | (important_TPC_prompt[beta_col_name] == True)]\n",
    "\n",
    "print(f\"Number of isotopes in range: {len(important_TPC_prompt)}\")\n",
    "print(f\"Total Production (/yr): {important_TPC_prompt['Production (/yr)'].sum()}\")\n",
    "important_TPC_prompt"
   ]
  },
  {
   "cell_type": "markdown",
   "metadata": {},
   "source": [
    "# Look for important unstable delayed isotopes in TPC"
   ]
  },
  {
   "cell_type": "markdown",
   "metadata": {},
   "source": [
    "## Any isotopes that beta decay"
   ]
  },
  {
   "cell_type": "code",
   "execution_count": null,
   "metadata": {},
   "outputs": [],
   "source": [
    "# All unstable that beta decay with decays per year > 1\n",
    "unstable_TPC_delayed_beta = unstable_TPC_delayed.sort_values(\"Counts\", ascending=False).reset_index(drop=True)\n",
    "unstable_TPC_delayed_grouped = unstable_TPC_delayed_beta.groupby(['Atomic Number'])[\"Production (/yr)\"].sum()\n",
    "unstable_TPC_delayed_grouped.plot.bar(x=\"Atomic Number\", log=True)\n",
    "plt.title(\"Total Unstable Delayed Isotope Yields\")\n",
    "plt.show()\n",
    "unstable_TPC_delayed_beta.head(70)"
   ]
  },
  {
   "cell_type": "markdown",
   "metadata": {},
   "source": [
    "## Filter with high probability for beta emission in range"
   ]
  },
  {
   "cell_type": "code",
   "execution_count": null,
   "metadata": {},
   "outputs": [],
   "source": [
    "# Filter with beta energy ranges\n",
    "important_TPC_delayed = unstable_TPC_delayed[pd.isnull(unstable_TPC_delayed[beta_col_name]) | (unstable_TPC_delayed[beta_col_name] == True)].sort_values(\"Counts\", ascending=False).reset_index(drop=True)\n",
    "\n",
    "print(f\"Number of isotopes in range: {len(important_TPC_delayed)}\")\n",
    "print(f\"Total Production (yr): {important_TPC_delayed['Production (/yr)'].sum()}\\n\")\n",
    "\n",
    "print(f\"Beta decays: {len(important_TPC_delayed[important_TPC_delayed[beta_col_name] == True])}\")\n",
    "print(f\"Beta decay productions (/yr): {important_TPC_delayed.loc[important_TPC_delayed[beta_col_name] == True, 'Production (/yr)'].sum()}\\n\")"
   ]
  },
  {
   "cell_type": "code",
   "execution_count": null,
   "metadata": {},
   "outputs": [],
   "source": [
    "file_dir = f\"./assets/{physic_model}/important_iso.csv\"\n",
    "important_TPC_delayed.to_csv(file_dir)\n",
    "important_TPC_delayed"
   ]
  },
  {
   "cell_type": "code",
   "execution_count": null,
   "metadata": {},
   "outputs": [],
   "source": [
    "important_TPC_delayed_groups = important_TPC_delayed.groupby(['Atomic Number'])[\"Production (/yr)\"].sum()\n",
    "important_TPC_delayed_groups.plot.bar(x=\"Atomic Number\", log=True)\n",
    "plt.title(\"Important Delayed TPC Isotopes (/yr)\")\n",
    "plt.show()"
   ]
  },
  {
   "cell_type": "markdown",
   "metadata": {},
   "source": [
    "# Combine df and convert to latex"
   ]
  },
  {
   "cell_type": "code",
   "execution_count": null,
   "metadata": {},
   "outputs": [],
   "source": [
    "print(\"Table Splitting (inclusive)\")\n",
    "important_combined = pd.concat([important_TPC_prompt.sort_values(\"Counts\", ascending=False), important_TPC_delayed.sort_values(\"Counts\", ascending=False), unstable_TPC_delayed_beta.sort_values(\"Counts\", ascending=False)]).reset_index(drop=True)\n",
    "print(f\"Total: {len(important_combined)}\")\n",
    "print(f\"TPC Prompt: 0-{len(important_TPC_prompt)-1}\")\n",
    "print(f\"TPC Delayed: {len(important_TPC_prompt)}-{len(important_TPC_prompt) + len(important_TPC_delayed)-1}\")\n",
    "print(\"Rest is all unstable in detector\")\n",
    "important_combined"
   ]
  },
  {
   "cell_type": "code",
   "execution_count": null,
   "metadata": {},
   "outputs": [],
   "source": [
    "# Add columns\n",
    "important_combined[\"Half Life (s)\"] = important_combined[\"Half Life (ns)\"] * 10 ** -9"
   ]
  },
  {
   "cell_type": "code",
   "execution_count": null,
   "metadata": {},
   "outputs": [],
   "source": [
    "important_combined = important_combined[[\"Iso Symbol\", \"Production (/yr)\", \"Yield per Muon (/yr)\", \"Half Life (ns)\", \"Decay Modes (m, b, q MeV)\"]]\n",
    "print(\"\\n\", important_combined.to_latex())"
   ]
  },
  {
   "cell_type": "code",
   "execution_count": null,
   "metadata": {},
   "outputs": [],
   "source": []
  },
  {
   "cell_type": "code",
   "execution_count": null,
   "metadata": {},
   "outputs": [],
   "source": []
  }
 ],
 "metadata": {
  "interpreter": {
   "hash": "6f7444b85f5e472d59c1732ee380584669610570f649386dbdf2e6e0e06d151c"
  },
  "kernelspec": {
   "display_name": "Python 3 (ipykernel)",
   "language": "python",
   "name": "python3"
  },
  "language_info": {
   "codemirror_mode": {
    "name": "ipython",
    "version": 3
   },
   "file_extension": ".py",
   "mimetype": "text/x-python",
   "name": "python",
   "nbconvert_exporter": "python",
   "pygments_lexer": "ipython3",
   "version": "3.7.4"
  }
 },
 "nbformat": 4,
 "nbformat_minor": 4
}
