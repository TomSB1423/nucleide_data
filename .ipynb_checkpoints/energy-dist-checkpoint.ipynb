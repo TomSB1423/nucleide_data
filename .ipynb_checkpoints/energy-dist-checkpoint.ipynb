{
 "cells": [
  {
   "cell_type": "code",
   "execution_count": 4,
   "metadata": {
    "collapsed": true,
    "jupyter": {
     "outputs_hidden": true
    }
   },
   "outputs": [
    {
     "name": "stdout",
     "output_type": "stream",
     "text": [
      "Requirement already satisfied: wheel in c:\\users\\u1942937\\appdata\\local\\continuum\\anaconda3\\lib\\site-packages (from -r requirements.txt (line 1)) (0.33.6)\n",
      "Requirement already satisfied: numpy in c:\\users\\u1942937\\appdata\\local\\continuum\\anaconda3\\lib\\site-packages (from -r requirements.txt (line 2)) (1.16.5)\n",
      "Collecting uncertainties (from -r requirements.txt (line 3))\n",
      "  Downloading https://files.pythonhosted.org/packages/4e/5c/33cbc5423d0a647b3ad7f93cdabb77b1b3eb5abbc3f2dadbd53b7ea4795f/uncertainties-3.1.6-py2.py3-none-any.whl (98kB)\n",
      "Requirement already satisfied: matplotlib in c:\\users\\u1942937\\appdata\\local\\continuum\\anaconda3\\lib\\site-packages (from -r requirements.txt (line 4)) (3.1.1)\n",
      "Requirement already satisfied: pandas in c:\\users\\u1942937\\appdata\\local\\continuum\\anaconda3\\lib\\site-packages (from -r requirements.txt (line 5)) (0.25.1)\n",
      "Collecting plotly (from -r requirements.txt (line 6))\n",
      "  Downloading https://files.pythonhosted.org/packages/9f/16/c63412aec59219142b541011524417ef1c1c226e4a5ed2eb1cd808cd1a2b/plotly-5.6.0-py2.py3-none-any.whl (27.7MB)\n",
      "Requirement already satisfied: future in c:\\users\\u1942937\\appdata\\local\\continuum\\anaconda3\\lib\\site-packages (from uncertainties->-r requirements.txt (line 3)) (0.17.1)\n",
      "Requirement already satisfied: cycler>=0.10 in c:\\users\\u1942937\\appdata\\local\\continuum\\anaconda3\\lib\\site-packages (from matplotlib->-r requirements.txt (line 4)) (0.10.0)\n",
      "Requirement already satisfied: kiwisolver>=1.0.1 in c:\\users\\u1942937\\appdata\\local\\continuum\\anaconda3\\lib\\site-packages (from matplotlib->-r requirements.txt (line 4)) (1.1.0)\n",
      "Requirement already satisfied: pyparsing!=2.0.4,!=2.1.2,!=2.1.6,>=2.0.1 in c:\\users\\u1942937\\appdata\\local\\continuum\\anaconda3\\lib\\site-packages (from matplotlib->-r requirements.txt (line 4)) (2.4.2)\n",
      "Requirement already satisfied: python-dateutil>=2.1 in c:\\users\\u1942937\\appdata\\local\\continuum\\anaconda3\\lib\\site-packages (from matplotlib->-r requirements.txt (line 4)) (2.8.0)\n",
      "Requirement already satisfied: pytz>=2017.2 in c:\\users\\u1942937\\appdata\\local\\continuum\\anaconda3\\lib\\site-packages (from pandas->-r requirements.txt (line 5)) (2019.3)\n",
      "Requirement already satisfied: six in c:\\users\\u1942937\\appdata\\local\\continuum\\anaconda3\\lib\\site-packages (from plotly->-r requirements.txt (line 6)) (1.12.0)\n",
      "Collecting tenacity>=6.2.0 (from plotly->-r requirements.txt (line 6))\n",
      "  Downloading https://files.pythonhosted.org/packages/f2/a5/f86bc8d67c979020438c8559cc70cfe3a1643fd160d35e09c9cca6a09189/tenacity-8.0.1-py3-none-any.whl\n",
      "Requirement already satisfied: setuptools in c:\\users\\u1942937\\appdata\\local\\continuum\\anaconda3\\lib\\site-packages (from kiwisolver>=1.0.1->matplotlib->-r requirements.txt (line 4)) (41.4.0)\n",
      "Installing collected packages: uncertainties, tenacity, plotly\n",
      "Successfully installed plotly-5.6.0 tenacity-8.0.1 uncertainties-3.1.6\n",
      "Imported all.\n"
     ]
    }
   ],
   "source": [
    "# pip install\n",
    "!pip install -r requirements.txt\n",
    "\n",
    "# Imports\n",
    "import matplotlib.pyplot as plt\n",
    "import matplotlib.patches as mpatches\n",
    "import numpy as np\n",
    "import pandas as pd\n",
    "from pprint import pprint\n",
    "\n",
    "# Module imports\n",
    "from periodic_table import *\n",
    "from utils import *\n",
    "print(\"Imported all.\")"
   ]
  },
  {
   "cell_type": "code",
   "execution_count": 28,
   "metadata": {},
   "outputs": [
    {
     "data": {
      "image/png": "[encoded data removed]",
      "text/plain": [
       "<Figure size 432x288 with 1 Axes>"
      ]
     },
     "metadata": {
      "needs_background": "light"
     },
     "output_type": "display_data"
    }
   ],
   "source": [
    "# Plot energy distribution\n",
    "bpar = 0.4\n",
    "gammaMu = 3.77\n",
    "epsMu = 693.0\n",
    "depth = 0.0\n",
    "x = np.linspace(0.1,1.4)\n",
    "dummy  = (x + epsMu * (1.0 - np.exp(-bpar * depth)));\n",
    "result = np.exp(-bpar * depth * (gammaMu - 1.0)) * np.power(dummy, -gammaMu);\n",
    "plt.plot(x, result)\n",
    "plt.yscale(\"log\")\n",
    "#plt.xscale(\"log\")"
   ]
  }
 ],
 "metadata": {
  "kernelspec": {
   "display_name": "Python 3",
   "language": "python",
   "name": "python3"
  },
  "language_info": {
   "codemirror_mode": {
    "name": "ipython",
    "version": 3
   },
   "file_extension": ".py",
   "mimetype": "text/x-python",
   "name": "python",
   "nbconvert_exporter": "python",
   "pygments_lexer": "ipython3",
   "version": "3.7.4"
  }
 },
 "nbformat": 4,
 "nbformat_minor": 4
}
